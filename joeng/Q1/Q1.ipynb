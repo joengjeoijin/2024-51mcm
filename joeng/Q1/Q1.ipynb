{
 "cells": [
  {
   "cell_type": "markdown",
   "metadata": {},
   "source": [
    "#2024 51MCM-B题#\n",
    "\n",
    "首先创建路径邻接矩阵，1代表联通，0代表断开。节点与自身不连通。\n",
    "然后使用广度优先搜索，搜索出符合条件的五条路径"
   ]
  },
  {
   "cell_type": "code",
   "execution_count": 7,
   "metadata": {},
   "outputs": [],
   "source": [
    "import numpy as np\n",
    "\n",
    "matrix = np.array([[0, 1, 0, 1, 0, 0, 0, 0, 0],[1, 0, 1, 0, 1, 0, 0, 0, 0],[0, 1, 0, 0, 0, 1, 0, 0, 0],[1, 0, 0, 0, 1, 0, 1, 0, 0],[0, 1, 0, 1, 0, 1, 0, 1, 0],[0, 0, 1, 0, 1, 0, 0, 0, 1],[0, 0, 0, 1, 0, 0, 0, 1, 0],[0, 0, 0, 0, 1, 0, 1, 0, 1],[0, 0, 0, 0, 0, 1, 0, 1, 0]])\n",
    "#print(matrix)\n",
    "\n",
    "from collections import deque\n",
    "\n",
    "class Graph:\n",
    "    def __init__(self):\n",
    "        self.graph = {}\n",
    "\n",
    "    def add_edge(self, node, neighbors):\n",
    "        self.graph[node] = neighbors\n",
    "\n",
    "g = Graph()\n",
    "g.add_edge(1, [2,4])\n",
    "g.add_edge(2, [1,3,5])\n",
    "g.add_edge(3, [2,6])\n",
    "g.add_edge(4, [1,5,7])\n",
    "g.add_edge(5, [2,4,6,8])\n",
    "g.add_edge(6, [3,5,9])\n",
    "g.add_edge(7, [4,8])\n",
    "g.add_edge(8, [5,7,9])\n",
    "g.add_edge(9, [6,8])\n",
    "\n",
    "def bfs(graph, start, target):\n",
    "    visited = []\n",
    "    paths = []\n",
    "    queue = [[start]]\n",
    "    if start == target:\n",
    "        return \"Start = target\"\n",
    "    while queue:\n",
    "        path = queue.pop(0)\n",
    "        node = path[-1]\n",
    "        neighbours = graph[node]\n",
    "        for neighbour in neighbours:\n",
    "            new_path = list(path)\n",
    "            new_path.append(neighbour)\n",
    "            queue.append(new_path)\n",
    "            if neighbour == target:\n",
    "                paths.append(new_path)\n",
    "            if len(paths) == 5:\n",
    "                return paths\n",
    "        visited.append(node)\n",
    "    return \"No path\"\n",
    "\n",
    "paths = bfs(g.graph, 1, 9)"
   ]
  },
  {
   "cell_type": "markdown",
   "metadata": {},
   "source": [
    "##下面首先平均分配各个路径的流量，随后通过……我也不知道怎么做去完成它……"
   ]
  }
 ],
 "metadata": {
  "kernelspec": {
   "display_name": "Python 3 (ipykernel)",
   "language": "python",
   "name": "python3"
  },
  "language_info": {
   "codemirror_mode": {
    "name": "ipython",
    "version": 3
   },
   "file_extension": ".py",
   "mimetype": "text/x-python",
   "name": "python",
   "nbconvert_exporter": "python",
   "pygments_lexer": "ipython3",
   "version": "3.10.14"
  }
 },
 "nbformat": 4,
 "nbformat_minor": 2
}
