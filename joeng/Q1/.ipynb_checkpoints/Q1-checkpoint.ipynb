{
 "cells": [
  {
   "cell_type": "markdown",
   "metadata": {},
   "source": [
    "#2024 51MCM-B题#\n",
    "\n",
    "首先创建路径邻接矩阵，1代表联通，0代表断开。节点与自身不连通。\n",
    "然后使用广度优先搜索，搜索出符合条件的五条路径"
   ]
  },
  {
   "cell_type": "code",
   "execution_count": 1,
   "metadata": {},
   "outputs": [],
   "source": [
    "import numpy as np\n",
    "\n",
    "matrix = np.array([[0, 1, 0, 1, 0, 0, 0, 0, 0],[1, 0, 1, 0, 1, 0, 0, 0, 0],[0, 1, 0, 0, 0, 1, 0, 0, 0],[1, 0, 0, 0, 1, 0, 1, 0, 0],[0, 1, 0, 1, 0, 1, 0, 1, 0],[0, 0, 1, 0, 1, 0, 0, 0, 1],[0, 0, 0, 1, 0, 0, 0, 1, 0],[0, 0, 0, 0, 1, 0, 1, 0, 1],[0, 0, 0, 0, 0, 1, 0, 1, 0]])\n",
    "#print(matrix)\n",
    "\n",
    "from collections import deque\n",
    "\n",
    "class Graph:\n",
    "    def __init__(self):\n",
    "        self.graph = {}\n",
    "\n",
    "    def add_edge(self, node, neighbors):\n",
    "        self.graph[node] = neighbors\n",
    "\n",
    "class ResizableList(object):\n",
    "    def __init__(self, initial_size=90):\n",
    "        self.data = [0] * initial_size\n",
    "        self.size = 0\n",
    " \n",
    "    def __getitem__(self, index):\n",
    "        if index >= self.size:\n",
    "            self._resize(index + 1)\n",
    "        return self.data[index]\n",
    " \n",
    "    def __setitem__(self, index, value):\n",
    "        if index >= self.size:\n",
    "            self._resize(index + 1)\n",
    "        self.data[index] = value\n",
    "        if index >= self.size:\n",
    "            self.size = index + 1\n",
    " \n",
    "    def _resize(self, new_size):\n",
    "        self.data += [0] * (new_size - len(self.data))"
   ]
  },
  {
   "cell_type": "code",
   "execution_count": 2,
   "metadata": {},
   "outputs": [
    {
     "name": "stdout",
     "output_type": "stream",
     "text": [
      "{1: [2, 4], 2: [1, 3, 5], 3: [2, 6], 4: [1, 5, 7], 5: [2, 4, 6, 8], 6: [3, 5, 9], 7: [4, 8], 8: [5, 7, 9], 9: [6, 8]}\n",
      "[[3, 2, 1, 4, 7], [3, 2, 5, 4, 7], [3, 2, 5, 8, 7], [3, 6, 5, 4, 7], [3, 6, 5, 8, 7], [3, 6, 9, 8, 7]]\n"
     ]
    }
   ],
   "source": [
    "\n",
    "g = Graph()\n",
    "g.add_edge(1, [2,4])\n",
    "g.add_edge(2, [1,3,5])\n",
    "g.add_edge(3, [2,6])\n",
    "g.add_edge(4, [1,5,7])\n",
    "g.add_edge(5, [2,4,6,8])\n",
    "g.add_edge(6, [3,5,9])\n",
    "g.add_edge(7, [4,8])\n",
    "g.add_edge(8, [5,7,9])\n",
    "g.add_edge(9, [6,8])\n",
    "\n",
    "def bfs(graph, start, target):\n",
    "    visited = []\n",
    "    paths = []\n",
    "    queue = [[start]]\n",
    "    if start == target:\n",
    "        return \"Start = target\"\n",
    "    while queue:\n",
    "        path = queue.pop(0)\n",
    "        node = path[-1]\n",
    "        neighbours = graph[node]\n",
    "        for neighbour in neighbours:\n",
    "            new_path = list(path)\n",
    "            new_path.append(neighbour)\n",
    "            queue.append(new_path)\n",
    "            if neighbour == target:\n",
    "                if len(paths) >= 1:\n",
    "                    if len(new_path) > len(paths[-1]):\n",
    "                        return paths\n",
    "                paths.append(new_path)\n",
    "        visited.append(node)\n",
    "    return \"No path\"\n",
    "\n",
    "print(g.graph)\n",
    "paths = bfs(g.graph, 3, 7)\n",
    "print(paths)"
   ]
  },
  {
   "cell_type": "markdown",
   "metadata": {},
   "source": [
    "##下面首先平均分配各个路径的流量，随后通过……我也不知道怎么做去完成它……"
   ]
  },
  {
   "cell_type": "code",
   "execution_count": 3,
   "metadata": {},
   "outputs": [
    {
     "name": "stdout",
     "output_type": "stream",
     "text": [
      "[[0 0 0 ... 0 0 0]\n",
      " [0 0 0 ... 0 0 0]\n",
      " [0 0 0 ... 0 0 0]\n",
      " ...\n",
      " [0 0 0 ... 0 1 0]\n",
      " [0 0 0 ... 0 0 0]\n",
      " [0 0 0 ... 1 0 1]]\n"
     ]
    }
   ],
   "source": [
    "plans = [[1,5,100],\n",
    "[1,6,150],\n",
    "[1,8,200],\n",
    "[1,9,180],\n",
    "[2,4,160],\n",
    "[2,6,110],\n",
    "[2,7,120],\n",
    "[2,9,140],\n",
    "[3,4,130],\n",
    "[3,5,150],\n",
    "[3,7,140],\n",
    "[3,8,160],\n",
    "[4,2,100],\n",
    "[4,3,170],\n",
    "[4,8,190],\n",
    "[4,9,120],\n",
    "[5,1,160],\n",
    "[5,3,140],\n",
    "[5,7,180],\n",
    "[5,9,100],\n",
    "[6,1,170],\n",
    "[6,2,120],\n",
    "[6,7,130],\n",
    "[6,8,200],\n",
    "[7,2,120],\n",
    "[7,3,150],\n",
    "[7,5,190],\n",
    "[7,6,100],\n",
    "[8,1,130],\n",
    "[8,3,180],\n",
    "[8,4,140],\n",
    "[8,6,150],\n",
    "[9,1,170],\n",
    "[9,2,130],\n",
    "[9,4,190],\n",
    "[9,5,160]]\n",
    "\n",
    "def routenum(i,j):\n",
    "    return 9 * i + j\n",
    "\n",
    "def relationmat(route):\n",
    "    relmat = ResizableList()\n",
    "    while route:\n",
    "        if len(route) == 1:\n",
    "            break\n",
    "        i = route.pop(0)\n",
    "        j = route[0]\n",
    "        relmat[routenum(i,j)] = 1\n",
    "    return relmat\n",
    "\n",
    "relmat = []\n",
    "for plan in plans:\n",
    "    i = plan[0]\n",
    "    j = plan[1]\n",
    "    routes = bfs(g.graph, i, j)\n",
    "    plan.append(len(routes))\n",
    "    for route in routes:\n",
    "        relmat.append(relationmat(route).data)\n",
    "\n",
    "nprelmat = np.array(relmat)\n",
    "nprelmat = nprelmat.T\n",
    "print(nprelmat)"
   ]
  },
  {
   "cell_type": "markdown",
   "metadata": {},
   "source": [
    "##下面使用目标函数min=\\Sigmax^2进行梯度下降优化"
   ]
  },
  {
   "cell_type": "code",
   "execution_count": 17,
   "metadata": {},
   "outputs": [
    {
     "name": "stdout",
     "output_type": "stream",
     "text": [
      "[[2 0 1 ... 0 0 0]\n",
      " [0 2 0 ... 0 0 0]\n",
      " [1 0 3 ... 0 0 0]\n",
      " ...\n",
      " [0 0 0 ... 3 0 1]\n",
      " [0 0 0 ... 0 2 0]\n",
      " [0 0 0 ... 1 0 2]]\n",
      "[[1. 1. 0. ... 0. 0. 0.]\n",
      " [0. 0. 1. ... 0. 0. 0.]\n",
      " [0. 0. 0. ... 0. 0. 0.]\n",
      " ...\n",
      " [0. 0. 0. ... 0. 0. 0.]\n",
      " [0. 0. 0. ... 1. 0. 0.]\n",
      " [0. 0. 0. ... 0. 1. 1.]]\n",
      "[[ 2.  0.  1. ... -0. -0. -0.]\n",
      " [ 0.  2.  0. ... -0. -0. -0.]\n",
      " [ 1.  0.  3. ... -0. -0. -0.]\n",
      " ...\n",
      " [ 0.  0.  0. ...  0.  0.  0.]\n",
      " [ 0.  0.  0. ...  0.  0.  0.]\n",
      " [ 0.  0.  0. ...  0.  0.  0.]]\n"
     ]
    },
    {
     "data": {
      "text/plain": [
       "84"
      ]
     },
     "execution_count": 17,
     "metadata": {},
     "output_type": "execute_result"
    }
   ],
   "source": [
    "Q = nprelmat.T @ nprelmat\n",
    "print(Q)\n",
    "\n",
    "A = []\n",
    "b = []\n",
    "i = 0\n",
    "for plan in plans:\n",
    "    A.append(np.zeros(i).tolist() + np.ones(plan[3]).tolist() + np.zeros(len(Q) - plan[3] - i).tolist())\n",
    "    b.append(plan[2])\n",
    "    i += plan[3]\n",
    "\n",
    "A = np.array(A)\n",
    "print(A) \n",
    "\n",
    "#此处论文中的方法不可用，因为原来这个矩阵就已经是最简行阶梯了，前面的N列不是满秩的，所以无法求逆\n",
    "P = np.append(np.append(Q, -A.T, axis=1), np.append(A, np.zeros((len(A), len(A))), axis=1), axis=0)\n",
    "print(P)\n",
    "\n",
    "np.linalg.matrix_rank(P)\n",
    "#res = np.linalg.inv(P) @ np.append(np.zeros(len(Q)), b)\n",
    "#print(res)"
   ]
  },
  {
   "cell_type": "code",
   "execution_count": 18,
   "metadata": {},
   "outputs": [],
   "source": [
    "np.savetxt(\"E:\\\\nprelmat.csv\", nprelmat, fmt='%d', delimiter=',')"
   ]
  }
 ],
 "metadata": {
  "kernelspec": {
   "display_name": "Python 3 (ipykernel)",
   "language": "python",
   "name": "python3"
  },
  "language_info": {
   "codemirror_mode": {
    "name": "ipython",
    "version": 3
   },
   "file_extension": ".py",
   "mimetype": "text/x-python",
   "name": "python",
   "nbconvert_exporter": "python",
   "pygments_lexer": "ipython3",
   "version": "3.10.14"
  }
 },
 "nbformat": 4,
 "nbformat_minor": 4
}
